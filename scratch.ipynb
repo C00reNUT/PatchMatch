{
 "cells": [
  {
   "cell_type": "code",
   "execution_count": 1,
   "metadata": {},
   "outputs": [],
   "source": [
    "import pycuda.autoinit\n",
    "import pycuda.driver as drv\n",
    "import numpy\n",
    "import pycuda.autoinit\n",
    "import pycuda.gpuarray as gpuarray\n",
    "import numpy as np\n",
    "from pycuda.compiler import SourceModule\n",
    "\n",
    "from pycuda.compiler import SourceModule"
   ]
  },
  {
   "cell_type": "code",
   "execution_count": 14,
   "metadata": {},
   "outputs": [
    {
     "name": "stdout",
     "output_type": "stream",
     "text": [
      "[ -7.52616119  -4.50762749  -3.68769264 ...,  31.39338303  32.11295319\n",
      "  34.32965851]\n",
      "[[ 15.  15.  15. ...,  15.  15.  15.]\n",
      " [ 15.  15.  15. ...,  15.  15.  15.]\n",
      " [ 15.  15.  15. ...,  15.  15.  15.]\n",
      " ..., \n",
      " [ 15.  15.  15. ...,  15.  15.  15.]\n",
      " [ 15.  15.  15. ...,  15.  15.  15.]\n",
      " [ 15.  15.  15. ...,  15.  15.  15.]]\n"
     ]
    },
    {
     "name": "stderr",
     "output_type": "stream",
     "text": [
      "/usr/local/lib/python3.6/dist-packages/ipykernel_launcher.py:10: UserWarning: The CUDA compiler succeeded, but said the following:\n",
      "kernel.cu(52): warning: variable \"col\" was declared but never referenced\n",
      "\n",
      "kernel.cu(52): warning: variable \"col\" was declared but never referenced\n",
      "\n",
      "\n",
      "  # Remove the CWD from sys.path while we load stuff.\n"
     ]
    }
   ],
   "source": [
    "mod = SourceModule(open(\"./patchmatch.cu\").read())\n",
    "\n",
    "patchmatch = mod.get_function(\"multiply_them_2d\")\n",
    "\n",
    "rows,cols,channels = 500,500 , 80\n",
    "\n",
    "def get_blocks_for_dim(dim,blocks):\n",
    "    if rows % blocks ==0:\n",
    "        return rows//blocks\n",
    "    return rows// blocks +1 \n",
    "\n",
    "a = numpy.random.randn(rows,cols).astype(numpy.float32)\n",
    "b = numpy.random.randn(rows,cols).astype(numpy.float32)\n",
    "\n",
    "threads = 20\n",
    "\n",
    "dest = numpy.zeros_like(a)\n",
    "# patchmatch(\n",
    "#         drv.Out(dest), drv.In(a), drv.In(b),np.int32(rows), np.int32(cols), np.int32(channels),\n",
    "#         block=(threads,threads,1),\n",
    "#         grid=(get_blocks_for_dim(rows,threads),\n",
    "#               get_blocks_for_dim(cols,threads))\n",
    "# )\n",
    "\n",
    "\n",
    "# patchmatch(\n",
    "#         drv.Out(dest), drv.In(a), drv.In(b),np.int32(rows), np.int32(cols), np.int32(channels),\n",
    "#         block=(threads,threads,1),\n",
    "#         grid=(get_blocks_for_dim(rows,threads),\n",
    "#               get_blocks_for_dim(cols,threads))\n",
    "# )\n",
    "\n",
    "\n",
    "patchmatch(\n",
    "        drv.InOut(dest), drv.In(a), drv.In(b),np.int32(rows), np.int32(cols),\n",
    "        block=(threads,threads,1),\n",
    "        grid=(get_blocks_for_dim(rows,threads),\n",
    "              get_blocks_for_dim(cols,threads))\n",
    ")\n",
    "\n",
    "\n",
    "# print( numpy.unique(numpy.rollaxis(dest,2,0)[0]))\n",
    "# print( numpy.unique(numpy.rollaxis(dest,2,0)[1]))\n",
    "# print( numpy.unique(numpy.rollaxis(dest,2,0)[2]))\n",
    "# print( dest- 2*a*b)\n",
    "print(np.unique( dest- 2*a*b))\n",
    "print(dest)"
   ]
  },
  {
   "cell_type": "code",
   "execution_count": 79,
   "metadata": {},
   "outputs": [
    {
     "name": "stdout",
     "output_type": "stream",
     "text": [
      "Populating the interactive namespace from numpy and matplotlib\n"
     ]
    }
   ],
   "source": [
    "\"\"\"\n",
    "The Patchmatch Algorithm. The actual algorithm is a nearly\n",
    "line to line port of the original c++ version.\n",
    "The distance calculation is different to leverage numpy's vectorized\n",
    "operations.\n",
    "\n",
    "This version uses 4 images instead of 2.\n",
    "You can supply the same image twice to use patchmatch between 2 images.\n",
    "\n",
    "\"\"\"\n",
    "\n",
    "import numpy as np\n",
    "import cv2\n",
    "import pycuda.autoinit\n",
    "import pycuda.driver as drv\n",
    "import numpy\n",
    "import pycuda.autoinit\n",
    "import pycuda.gpuarray as gpuarray\n",
    "import numpy as np\n",
    "from pycuda.compiler import SourceModule\n",
    "%matplotlib inline\n",
    "%pylab inline\n",
    "pylab.rcParams['figure.figsize'] = (10, 6)\n",
    "import cv2\n",
    "\n",
    "from PIL import Image\n",
    "\n",
    "class PatchMatch(object):\n",
    "    def __init__(self, a, aa, b, bb, patch_size):\n",
    "        \"\"\"\n",
    "        Initialize Patchmatch Object.\n",
    "        This method also randomizes the nnf , which will eventually\n",
    "        be optimized.\n",
    "        \"\"\"\n",
    "        assert a.shape == b.shape == aa.shape == bb.shape, \"Dimensions were unequal for patch-matching input\"\n",
    "        self.A = a\n",
    "        self.B = b\n",
    "        self.AA = aa\n",
    "        self.BB = bb\n",
    "        self.patch_size = patch_size\n",
    "        self.nnf = np.zeros(shape=(2, self.A.shape[0], self.A.shape[1])).astype(np.int32)  # the nearest neighbour field\n",
    "        self.nnd = np.random.rand(self.A.shape[0], self.A.shape[1]).astype(np.float32) *100  # the distance map for the nnf\n",
    "        self.initialise_nnf()\n",
    "\n",
    "    def initialise_nnf(self):\n",
    "        \"\"\"\n",
    "        Set up a random NNF\n",
    "        Then calculate the distances to fill up the NND\n",
    "        :return:\n",
    "        \"\"\"\n",
    "        self.nnf[0] = np.random.randint(self.B.shape[1], size=(self.A.shape[0], self.A.shape[1]))*0\n",
    "        self.nnf[1] = np.random.randint(self.B.shape[0], size=(self.A.shape[0], self.A.shape[1]))*0\n",
    "        self.nnf = self.nnf.transpose((1, 2, 0)) \n",
    "        self.nnf = self.nnf.copy(\"C\")\n",
    "    \n",
    "    def visualize(self):\n",
    "        \"\"\"\n",
    "        Get the NNF visualisation\n",
    "        :return: The RGB Matrix of the NNF\n",
    "        \"\"\"\n",
    "        nnf = self.nnf\n",
    "\n",
    "        img = np.zeros((nnf.shape[0], nnf.shape[1], 3), dtype=np.uint8)\n",
    "\n",
    "        for i in range(nnf.shape[0]):\n",
    "            for j in range(nnf.shape[1]):\n",
    "                pos = nnf[i, j]\n",
    "                img[i, j, 0] = int(255 * (pos[0] / self.B.shape[1]))\n",
    "                img[i, j, 2] = int(255 * (pos[1] / self.B.shape[0]))\n",
    "\n",
    "        return img\n",
    "    \n",
    "# __global__ void patch_match(float *a, \n",
    "#                             float *aa,\n",
    "#                             float *b, \n",
    "#                             float *bb,\n",
    "#                             float *nnf,\n",
    "#                             float *nnd,\n",
    "#                             int rows, \n",
    "#                             int cols , \n",
    "#                             int channels, \n",
    "#                             int patch_size, \n",
    "#                             int iters,\n",
    "#                             int jump_size)\n",
    "\n",
    "\n",
    "\n",
    "    def propagate(self, iters=2, rand_search_radius=200,queue=None):\n",
    "        \"\"\"\n",
    "        Optimize the NNF using PatchMatch Algorithm\n",
    "        :param iters: number of iterations\n",
    "        :param rand_search_radius: max radius to use in random search\n",
    "        :return:\n",
    "        \"\"\"\n",
    "        \n",
    "        mod = SourceModule(open(\"./patchmatch.cu\").read())\n",
    "        patchmatch = mod.get_function(\"patch_match\")\n",
    "        \n",
    "        rows = self.A.shape[0]\n",
    "        cols = self.A.shape[1]\n",
    "        channels = np.int32(self.A.shape[2])\n",
    "        \n",
    "        threads = 20\n",
    "        \n",
    "        def get_blocks_for_dim(dim,blocks):\n",
    "            if dim % blocks ==0:\n",
    "                return dim//blocks\n",
    "            return dim// blocks +1 \n",
    "\n",
    "        print(self.nnf)\n",
    "\n",
    "\n",
    "        patchmatch(\n",
    "            drv.In(self.A),\n",
    "            drv.In(self.AA),\n",
    "            drv.In(self.B),\n",
    "            drv.In(self.BB),\n",
    "            drv.InOut(self.nnf),\n",
    "            drv.InOut(self.nnd),\n",
    "            np.int32(rows),\n",
    "            np.int32(cols),\n",
    "            channels,\n",
    "            np.int32(pm.patch_size),\n",
    "            np.int32(iters),\n",
    "            np.int32(8),\n",
    "        block=(threads,threads,1),\n",
    "        grid=(get_blocks_for_dim(rows,threads),\n",
    "              get_blocks_for_dim(cols,threads)))\n",
    "        \n",
    "        print(self.nnf)\n"
   ]
  },
  {
   "cell_type": "code",
   "execution_count": 90,
   "metadata": {},
   "outputs": [],
   "source": [
    "x = cv2.imread(\"../Deep-Image-Analogy/data/raw/ava.png\")\n",
    "y = cv2.imread(\"../Deep-Image-Analogy/data/raw/ava.png\")\n",
    "\n",
    "x = cv2.resize(x,(200,200))\n",
    "y = cv2.resize(y,(200,200))\n",
    "\n",
    "x = (x/255).astype(np.float32)\n",
    "y = (y/255).astype(np.float32)\n",
    "\n",
    "x *= 0 \n",
    "y *= 0 \n",
    "\n",
    "x+=1\n",
    "y+=2\n",
    "\n"
   ]
  },
  {
   "cell_type": "code",
   "execution_count": 91,
   "metadata": {},
   "outputs": [
    {
     "data": {
      "text/plain": [
       "<matplotlib.image.AxesImage at 0x7f1dd9726048>"
      ]
     },
     "execution_count": 91,
     "metadata": {},
     "output_type": "execute_result"
    },
    {
     "data": {
      "image/png": "[encoded data removed]",
      "text/plain": [
       "<matplotlib.figure.Figure at 0x7f1dd97bc780>"
      ]
     },
     "metadata": {},
     "output_type": "display_data"
    }
   ],
   "source": [
    "pm = PatchMatch(x,x,y,y, 5)\n",
    "plt.imshow(pm.visualize())"
   ]
  },
  {
   "cell_type": "code",
   "execution_count": 92,
   "metadata": {},
   "outputs": [
    {
     "name": "stdout",
     "output_type": "stream",
     "text": [
      "[[[0 0]\n",
      "  [0 0]\n",
      "  [0 0]\n",
      "  ..., \n",
      "  [0 0]\n",
      "  [0 0]\n",
      "  [0 0]]\n",
      "\n",
      " [[0 0]\n",
      "  [0 0]\n",
      "  [0 0]\n",
      "  ..., \n",
      "  [0 0]\n",
      "  [0 0]\n",
      "  [0 0]]\n",
      "\n",
      " [[0 0]\n",
      "  [0 0]\n",
      "  [0 0]\n",
      "  ..., \n",
      "  [0 0]\n",
      "  [0 0]\n",
      "  [0 0]]\n",
      "\n",
      " ..., \n",
      " [[0 0]\n",
      "  [0 0]\n",
      "  [0 0]\n",
      "  ..., \n",
      "  [0 0]\n",
      "  [0 0]\n",
      "  [0 0]]\n",
      "\n",
      " [[0 0]\n",
      "  [0 0]\n",
      "  [0 0]\n",
      "  ..., \n",
      "  [0 0]\n",
      "  [0 0]\n",
      "  [0 0]]\n",
      "\n",
      " [[0 0]\n",
      "  [0 0]\n",
      "  [0 0]\n",
      "  ..., \n",
      "  [0 0]\n",
      "  [0 0]\n",
      "  [0 0]]]\n",
      "[[[84 84]\n",
      "  [84 84]\n",
      "  [84 84]\n",
      "  ..., \n",
      "  [84 84]\n",
      "  [84 84]\n",
      "  [84 84]]\n",
      "\n",
      " [[84 84]\n",
      "  [84 84]\n",
      "  [84 84]\n",
      "  ..., \n",
      "  [84 84]\n",
      "  [84 84]\n",
      "  [84 84]]\n",
      "\n",
      " [[84 84]\n",
      "  [84 84]\n",
      "  [84 84]\n",
      "  ..., \n",
      "  [84 84]\n",
      "  [84 84]\n",
      "  [84 84]]\n",
      "\n",
      " ..., \n",
      " [[84 84]\n",
      "  [84 84]\n",
      "  [84 84]\n",
      "  ..., \n",
      "  [84 84]\n",
      "  [84 84]\n",
      "  [84 84]]\n",
      "\n",
      " [[84 84]\n",
      "  [84 84]\n",
      "  [84 84]\n",
      "  ..., \n",
      "  [84 84]\n",
      "  [84 84]\n",
      "  [84 84]]\n",
      "\n",
      " [[84 84]\n",
      "  [84 84]\n",
      "  [84 84]\n",
      "  ..., \n",
      "  [84 84]\n",
      "  [84 84]\n",
      "  [84 84]]]\n"
     ]
    }
   ],
   "source": [
    "pm.propagate()\n",
    "# pm.nnf"
   ]
  },
  {
   "cell_type": "code",
   "execution_count": 93,
   "metadata": {},
   "outputs": [
    {
     "data": {
      "text/plain": [
       "array([ 6.], dtype=float32)"
      ]
     },
     "execution_count": 93,
     "metadata": {},
     "output_type": "execute_result"
    }
   ],
   "source": [
    "np.unique(pm.nnd)"
   ]
  },
  {
   "cell_type": "code",
   "execution_count": 88,
   "metadata": {},
   "outputs": [
    {
     "data": {
      "text/plain": [
       "  C_CONTIGUOUS : True\n",
       "  F_CONTIGUOUS : False\n",
       "  OWNDATA : True\n",
       "  WRITEABLE : True\n",
       "  ALIGNED : True\n",
       "  UPDATEIFCOPY : False"
      ]
     },
     "execution_count": 88,
     "metadata": {},
     "output_type": "execute_result"
    }
   ],
   "source": [
    "pm.A.flags"
   ]
  },
  {
   "cell_type": "code",
   "execution_count": 89,
   "metadata": {},
   "outputs": [
    {
     "data": {
      "text/plain": [
       "dtype('float32')"
      ]
     },
     "execution_count": 89,
     "metadata": {},
     "output_type": "execute_result"
    }
   ],
   "source": [
    "pm.nnd.dtype"
   ]
  },
  {
   "cell_type": "code",
   "execution_count": null,
   "metadata": {},
   "outputs": [],
   "source": []
  },
  {
   "cell_type": "code",
   "execution_count": null,
   "metadata": {},
   "outputs": [],
   "source": []
  }
 ],
 "metadata": {
  "kernelspec": {
   "display_name": "Python 3",
   "language": "python",
   "name": "python3"
  },
  "language_info": {
   "codemirror_mode": {
    "name": "ipython",
    "version": 3
   },
   "file_extension": ".py",
   "mimetype": "text/x-python",
   "name": "python",
   "nbconvert_exporter": "python",
   "pygments_lexer": "ipython3",
   "version": "3.6.3"
  }
 },
 "nbformat": 4,
 "nbformat_minor": 2
}
